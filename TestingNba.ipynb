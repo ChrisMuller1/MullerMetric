{
 "cells": [
  {
   "cell_type": "markdown",
   "id": "7cdc460b",
   "metadata": {},
   "source": [
    "# Import the Libraries"
   ]
  },
  {
   "cell_type": "code",
   "execution_count": null,
   "id": "3186a120",
   "metadata": {},
   "outputs": [],
   "source": [
    "import pandas as pd\n",
    "import unidecode"
   ]
  },
  {
   "cell_type": "markdown",
   "id": "cfd111cc",
   "metadata": {},
   "source": [
    "# Run the code to get player data in list"
   ]
  },
  {
   "cell_type": "code",
   "execution_count": null,
   "id": "da8f7a48",
   "metadata": {},
   "outputs": [],
   "source": [
    "# alphabet = 'abcdefghijklmnopqrstuvwxyz'\n",
    "# base_url = 'https://www.basketball-reference.com/players'\n",
    "# temp = []\n",
    "\n",
    "# for letter in alphabet:\n",
    "#     df = pd.read_html(f\"{base_url}/{letter}/\")[0]\n",
    "#     df['Letter'] = [letter]*len(df)\n",
    "#     temp.append(df)\n",
    "    \n",
    "# data = pd.concat(temp)\n",
    "# data = data.reset_index(drop = True)\n",
    "\n",
    "# data.to_csv('all_players.csv', index = False)"
   ]
  },
  {
   "cell_type": "markdown",
   "id": "31951434",
   "metadata": {},
   "source": [
    "# Get data from csv file instead"
   ]
  },
  {
   "cell_type": "code",
   "execution_count": null,
   "id": "30c8509c",
   "metadata": {},
   "outputs": [],
   "source": [
    "data = pd.read_csv('all_players.csv')\n",
    "data"
   ]
  },
  {
   "cell_type": "markdown",
   "id": "46cd1b32",
   "metadata": {},
   "source": [
    "# Get stars and middleNames"
   ]
  },
  {
   "cell_type": "code",
   "execution_count": null,
   "id": "73e272ce",
   "metadata": {},
   "outputs": [],
   "source": [
    "starPlayers = [player for player in data.Player if player[-1] == '*']\n",
    "players = [unidecode.unidecode(player) if player not in starPlayers else unidecode.unidecode(player[0:-1]) for player in data.Player]\n",
    "data.Player = players\n",
    "middleNames = [name for name in data.Player if (len(name.split(' '))>2)]"
   ]
  },
  {
   "cell_type": "markdown",
   "id": "81191471",
   "metadata": {},
   "source": [
    "# Set up loop to get player dataframes"
   ]
  },
  {
   "cell_type": "code",
   "execution_count": null,
   "id": "7e6b33f4",
   "metadata": {},
   "outputs": [],
   "source": [
    "base_url = 'https://www.basketball-reference.com/players'\n",
    "CornerCases={\n",
    "    \"Luc Mbah a Moute\":  \"mbahalu\",\n",
    "    \"Metta World Peace\": \"artesro\",\n",
    "    \"Logan Vander Velden\": \"vandelo\",\n",
    "    \"Nene\": \"hilarne\",\n",
    "    \"Jeff Ayres\": \"pendeje\",\n",
    "    \"Mark Baker\": \"bakerla\",\n",
    "    \"J.J. Barea\": \"bareajo\",\n",
    "    \"George Bon Salle\": \"bonsage\", ## Could check for bon with the vans and vons\n",
    "    \"Clint Capela\": \"capelca\",\n",
    "    \"Dick Clark\": \"clarkri\",\n",
    "    \"Gigi Datome\": \"datomlu\",\n",
    "    \"Vinny Del Negro\": \"delnevi\",\n",
    "    \"Nando De Colo\": \"decolna\",  ## and dels\n",
    "    \"Rich Eichhorst\": \"eichhdi\",\n",
    "    \"Wayne Engelstad\": \"englewa\",\n",
    "    \"Bill Franklin\": \"frankwi\",\n",
    "    \"Enes Freedom\": \"kanteen\",\n",
    "    \"Smokey Gaines\": \"gaineda\",\n",
    "    \"Gene Gallette\": \"gillege\",\n",
    "    \"Bubbles Hawkins\": \"hawkiro\",\n",
    "    \"Walt Hazzard\": \"abdulma\",\n",
    "    \"Paul Hogue\": \"hoguedu\",\n",
    "    \"Alfredrick Hughes\": \"hugheri\",\n",
    "    \"Howie Jolliff\": \"jolifho\",\n",
    "    \"Derrick Jones Jr.\": \"jonesde\",\n",
    "    \"Jaren Jackson Jr.\": \"jacksja\",\n",
    "    \"Maxi Kleber\": \"klebima\",\n",
    "    \"Didi Louzada\": \"louzama\",\n",
    "    \"Sheldon Mac\": \"mcclesh\",\n",
    "    \"D.J. Mbenga\": \"mbengdj\",\n",
    "    \"Frank Ntilikina\": \"ntilila\",\n",
    "    \"Cedi Osman\": \"osmande\",\n",
    "    \"Sasha Pavlovic\": \"pavloal\",\n",
    "    \"Jim Phelan\": \"phelaja\",\n",
    "    \"Don Putman\": \"putnado\",\n",
    "    \"Bob Rensberger\": \"rensbro\",\n",
    "    \"Mouhamed Sene\": \"senesa\",\n",
    "    \"Edy Tavares\": \"tavarwa\",\n",
    "    \"Gene Tormohlen\": \"tormobu\",\n",
    "    \"Marcus Vinicius\": \"vincima\",\n",
    "    \"Henry Walker\": \"walkebi\",\n",
    "    \"Mo Williams\": \"willima\",\n",
    "    \"Jimmy Foster\": \"fosteja\"\n",
    "    \n",
    "}\n",
    "extensions = []\n",
    "\n",
    "\n",
    "for i in range(len(data)):\n",
    "    \n",
    "    player = data.iloc[i].Player\n",
    "    FullName = unidecode.unidecode(player)\n",
    "    \n",
    "    if FullName in CornerCases.keys():\n",
    "        extension = CornerCases[FullName]\n",
    "        data.at[i,'Letter'] = extension[0]\n",
    "    else:\n",
    "        \n",
    "        FullName = FullName.replace(\"'\",\"\")\n",
    "        FullName = FullName.replace(\".\",\"\")\n",
    "        FullName = FullName.replace(\"-\",\"\")\n",
    "        letter = data.iloc[i].Letter\n",
    "        name_array = FullName.split(' ')\n",
    "        \n",
    "        if len(name_array)>2:\n",
    "            first2 = name_array[0][0:2].lower()\n",
    "            \n",
    "\n",
    "            if name_array[1].lower() == \"von\" or (name_array[1].lower()==\"van\"):\n",
    "                first5 = name_array[1][0:3].lower() + name_array[2][0:2].lower()\n",
    "            else:\n",
    "                for j in range(len(name_array)-1, 0, -1):\n",
    "                    if name_array[j][0].lower() == letter:\n",
    "                        first5= name_array[j][0:5].lower()\n",
    "                        break\n",
    "\n",
    "        else:\n",
    "            first5 = name_array[1][0:5].lower()\n",
    "            first2 = name_array[0][0:2].lower()\n",
    "\n",
    "        extension = first5 + first2\n",
    "\n",
    "    extensions.append(extension)\n",
    "\n",
    "data['Extension'] = extensions    "
   ]
  },
  {
   "cell_type": "code",
   "execution_count": null,
   "id": "8b69ce40",
   "metadata": {},
   "outputs": [],
   "source": [
    "print(\"FullName: \", FullName)\n",
    "print(\"extension: \", extension)\n",
    "print(\"letter: \", letter)\n",
    "print(\"Possible url: \", f'{base_url}/{letter}/{extension}01.html')"
   ]
  },
  {
   "cell_type": "markdown",
   "id": "8f8da8a3",
   "metadata": {},
   "source": [
    "# Check duplicate extensions"
   ]
  },
  {
   "cell_type": "code",
   "execution_count": null,
   "id": "186d624b",
   "metadata": {},
   "outputs": [],
   "source": [
    "########Put logic to get columns for number#############\n",
    "data = data.sort_values(['Extension','From']).reset_index(drop = True)\n",
    "\n",
    "CornerCaseNumbers = {\n",
    "    \"hairspj01\": 2,\n",
    "    \"munfoxa01\": 2,\n",
    "    \"brownch03\": 5,\n",
    "    \"brownke02\": 3,\n",
    "    \"burtode01\": 2,\n",
    "    \"davisjo03\": 6,\n",
    "    \"fostemi01\": 2,\n",
    "    \"greenja03\": 5,\n",
    "    \"howarma01\": 2,\n",
    "    \"jacksjo01\": 2,\n",
    "    \"johnsda05\": 8,\n",
    "    \"johnsja03\": 5,\n",
    "    \"johnske05\": 7,\n",
    "    \"jonesca02\": 3,\n",
    "    \"jonesja03\": 4,\n",
    "    \"jonesma04\": 5,\n",
    "    \"smithja03\": 4,\n",
    "    \"smithto01\": 2,\n",
    "    \"tilliki01\": 2,\n",
    "    \"washity01\": 2,\n",
    "    \"willial04\": 6,\n",
    "    \"willibr02\": 3,\n",
    "    \"willija05\": 6,\n",
    "    \"willima06\": 7,\n",
    "    \"williro03\": 4,\n",
    "    \n",
    "    \n",
    "}\n",
    "\n",
    "resetNum = 1\n",
    "prevNum = 1\n",
    "numbers = [1]\n",
    "currentNum = 1\n",
    "\n",
    "for i in range(1,len(data)):\n",
    "    if data.iloc[i].Extension == data.iloc[i-1].Extension:\n",
    "        currentNum = prevNum + 1\n",
    "    else: \n",
    "        currentNum = resetNum\n",
    "    \n",
    "    key = f\"{data.iloc[i].Extension}{str(currentNum).zfill(2)}\"\n",
    "    if key in CornerCaseNumbers.keys(): \n",
    "        currentNum = CornerCaseNumbers[key]\n",
    "    \n",
    "    prevNum = currentNum\n",
    "    numbers.append(currentNum)\n",
    "    \n",
    "numbers = [str(number).zfill(2) for number in numbers]\n",
    "data['Number'] = numbers"
   ]
  },
  {
   "cell_type": "markdown",
   "id": "ee1a563d",
   "metadata": {},
   "source": [
    "# Generate the correct urls (and verify no duplicates)"
   ]
  },
  {
   "cell_type": "code",
   "execution_count": null,
   "id": "a12aad11",
   "metadata": {},
   "outputs": [],
   "source": [
    "urls = []\n",
    "\n",
    "for i in range(len(data)):\n",
    "    row = data.iloc[i]\n",
    "    url = f\"{base_url}/{row.Letter}/{row.Extension}{row.Number}.html\"\n",
    "    urls.append(url)\n",
    "    \n",
    "data['url'] = urls\n",
    "assert(len(data['url'].unique()) == len(data))"
   ]
  },
  {
   "cell_type": "markdown",
   "id": "daf2e6a4",
   "metadata": {},
   "source": [
    "# Read htmls and write csvs"
   ]
  },
  {
   "cell_type": "code",
   "execution_count": null,
   "id": "28b33f38",
   "metadata": {
    "scrolled": true
   },
   "outputs": [],
   "source": [
    "import time\n",
    "import os\n",
    "\n",
    "len_data = len(data)\n",
    "bad_rows = []\n",
    "\n",
    "raw_dir = 'raw_player_dfs/'\n",
    "if not os.path.exists(raw_dir):\n",
    "    os.makedirs(raw_dir)\n",
    "\n",
    "for i in range(len_data):\n",
    "    \n",
    "    row = data.iloc[i]\n",
    "    path = f'raw_player_dfs/{row.Letter}'\n",
    "    \n",
    "    if not os.path.exists(path):\n",
    "        os.makedirs(path)\n",
    "    file = f\"{path}/{row.Extension}{row.Number}.csv\"\n",
    "\n",
    "    if os.path.isfile(file) and row.To != 2023: ####PUT CONDITION FOR CURRENT PLAYERS\n",
    "        continue\n",
    "    else:\n",
    "        try:\n",
    "            time.sleep(2)\n",
    "            print(f\"{i+1}/{len_data}\", row.Player)\n",
    "            player_df = pd.read_html(row.url)[0]\n",
    "            player_df.to_csv(file, index = False)\n",
    "        except:\n",
    "            print(f'Did not work at index {i}:', row.Player)\n",
    "            bad_rows.append(row)\n",
    "    \n",
    "            \n",
    "try:\n",
    "    bad_df = pd.concat(bad_rows,axis =1).T\n",
    "except:\n",
    "    print(\"All players generated! Yay!\")"
   ]
  },
  {
   "cell_type": "markdown",
   "id": "977a4003",
   "metadata": {},
   "source": [
    "# Clean up dataframe"
   ]
  },
  {
   "cell_type": "code",
   "execution_count": null,
   "id": "a132149e",
   "metadata": {},
   "outputs": [],
   "source": [
    "import os\n",
    "\n",
    "alphabet = 'abcdefghijklmnopqrstuvwxyz'\n",
    "ALPHABET = alphabet.upper()\n",
    "\n",
    "clean_dir = 'player_dfs/'\n",
    "if not os.path.exists(clean_dir):\n",
    "    os.makedirs(clean_dir)\n",
    "    \n",
    "len_data = len(data)\n",
    "bad_rows = []\n",
    "    \n",
    "for index,row in data.iterrows():\n",
    "    \n",
    "    print(f'{index+1}/{len_data}',row.Player)\n",
    "    \n",
    "    try:\n",
    "        path = f'{clean_dir}{row.Letter}'\n",
    "        if not os.path.exists(path):\n",
    "            os.makedirs(path)\n",
    "    #####################################READ IN RAW PLAYER DF####################################\n",
    "        file = f'{row.Letter}/{row.Extension}{row.Number}.csv'\n",
    "        raw_player_df = pd.read_csv(f'raw_player_dfs/{file}')\n",
    "        player_df = raw_player_df.dropna(subset = ['Pos'])\n",
    "\n",
    "    ####################################CHECK FOR DNP SEASONS################################\n",
    "        if player_df.G.dtype == 'object':\n",
    "            DNP = [False if (row[1].G[0] in alphabet) or (row[1].G[0] in ALPHABET) else True for row in player_df.iterrows()]\n",
    "            player_df = player_df[DNP]\n",
    "\n",
    "    ########################DROP DUPLICATE SEASON TO GET TOT#####################################\n",
    "        player_df = player_df.drop_duplicates(subset = ['Season'], keep = 'first')\n",
    "        player_df = player_df.reset_index(drop = True)\n",
    "\n",
    "    ############################WRITE THE CSV FILE#######################################\n",
    "        file = f'{clean_dir}{file}'\n",
    "        player_df = player_df.set_index('Season')\n",
    "        player_df['Player'] = [row.Player]*len(player_df)\n",
    "        player_df['Pos'] = [row.Pos]*len(player_df)\n",
    "        player_df['Ht'] = [row.Ht]*len(player_df)\n",
    "        player_df.to_csv(file)\n",
    "    \n",
    "    except:\n",
    "        print(f'Did not work at index {i}:', row.Player)\n",
    "        bad_rows.append(row)\n",
    "        \n",
    "try:\n",
    "    bad_df = pd.concat(bad_rows,axis =1).T\n",
    "except:\n",
    "    print(\"All players generated! Yay!\")"
   ]
  },
  {
   "cell_type": "markdown",
   "id": "8671a8b0",
   "metadata": {},
   "source": [
    "# Generate ratings for each season"
   ]
  },
  {
   "cell_type": "code",
   "execution_count": null,
   "id": "76dfa1d5",
   "metadata": {},
   "outputs": [],
   "source": [
    "from sklearn.preprocessing import StandardScaler\n",
    "import numpy as np    \n",
    "\n",
    "\n",
    "seasons = list(range(1980,2024))\n",
    "target_num_players = 250\n",
    "weightings = {\"PTS\": 5,\"AST\": 3.5,\"TRB\": 3,\"STL\": 1.5,\"BLK\": 1.5,\"eFG%\": 2,\"FT%\": 1,\"TOV\": -1,\"PF\": -1}\n",
    "stats = list(weightings.keys())\n",
    "\n",
    "\n",
    "season_dir = 'season_ratings/'\n",
    "if not os.path.exists(season_dir):\n",
    "    os.makedirs(season_dir)\n",
    "\n",
    "\n",
    "for i in range (len(seasons)):\n",
    "    \n",
    "    season_data = []\n",
    "    ###############INSERT LOOOOOOOOOOOOOOP HERE########################\n",
    "    season = seasons[i]\n",
    "    season_string = f\"{season-1}-{str(season%100).zfill(2)}\"\n",
    "    print(season_string)\n",
    "\n",
    "    #######################GET ELIGIBLE PLAYERS########################\n",
    "    players = data.query(f\"From <= {season} and To >= {season}\")\n",
    "\n",
    "    for j in range(len(players)):\n",
    "        row = players.iloc[j]\n",
    "        player_data = pd.read_csv(f\"player_dfs/{row.Letter}/{row.Extension}{row.Number}.csv\", index_col = 'Season') \n",
    "        if season_string in player_data.index:\n",
    "            season_row = player_data.loc[season_string]\n",
    "            season_data.append(season_row)\n",
    "\n",
    "    season_data = pd.concat(season_data,axis =1).T\n",
    "    season_data = season_data.set_index(\"Player\")\n",
    "    season_data = season_data.fillna(0)\n",
    "    if len(season_data) > target_num_players:\n",
    "        min_games = int(season_data.sort_values('G', ascending = False).iloc[target_num_players].G)\n",
    "        season_data = season_data.query(f\"G >= {min_games}\")\n",
    "\n",
    "    scaler = StandardScaler()\n",
    "    season_data[stats] = scaler.fit_transform(np.array(season_data[stats]))\n",
    "    season_data = season_data.filter(['Player','Pos','Ht']+ stats)\n",
    "    season_data[stats] = season_data[stats].multiply(list(weightings.values()))\n",
    "    season_data['ChrissyMetric'] = season_data[stats].sum(axis = 1)\n",
    "    season_data = season_data.sort_values(\"ChrissyMetric\", ascending = False) \n",
    "    \n",
    "    path = f'{season_dir}{season_string}.csv'\n",
    "    season_data.to_csv(path)"
   ]
  },
  {
   "cell_type": "code",
   "execution_count": null,
   "id": "9aaca4dd",
   "metadata": {},
   "outputs": [],
   "source": [
    "plt.hist(season_data.ChrissyMetric)"
   ]
  },
  {
   "cell_type": "markdown",
   "id": "ec467567",
   "metadata": {},
   "source": [
    "# DEBUG "
   ]
  },
  {
   "cell_type": "code",
   "execution_count": null,
   "id": "21452ddf",
   "metadata": {},
   "outputs": [],
   "source": [
    "index = 1256 ##### GETTING THE PLAYER (DOESNT MATTER) (1256 is Anthony Edwards)\n",
    "season = 2022 ##### THIS IS IMPORTANT\n",
    "\n",
    "row = data.iloc[index]\n",
    "\n",
    "###############GET THE SEASONAL ROW FOR THIS PLAYER##############\n",
    "season_string = f\"{season-1}-{season%100}\"\n",
    "season_row = pd.read_csv(f\"player_dfs/{row.Letter}/{row.Extension}{row.Number}.csv\", index_col = 'Season').loc[season_string]"
   ]
  }
 ],
 "metadata": {
  "kernelspec": {
   "display_name": "Python 3 (ipykernel)",
   "language": "python",
   "name": "python3"
  },
  "language_info": {
   "codemirror_mode": {
    "name": "ipython",
    "version": 3
   },
   "file_extension": ".py",
   "mimetype": "text/x-python",
   "name": "python",
   "nbconvert_exporter": "python",
   "pygments_lexer": "ipython3",
   "version": "3.9.12"
  }
 },
 "nbformat": 4,
 "nbformat_minor": 5
}
